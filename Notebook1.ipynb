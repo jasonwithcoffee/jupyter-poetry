{
 "cells": [
  {
   "cell_type": "code",
   "execution_count": 1,
   "id": "e48e47b7-e524-4ca2-92cf-c93dcb908493",
   "metadata": {},
   "outputs": [],
   "source": [
    "import requests"
   ]
  },
  {
   "cell_type": "code",
   "execution_count": 3,
   "id": "9cf153ef-bbb4-4955-bb72-4e66b991b9e6",
   "metadata": {},
   "outputs": [],
   "source": [
    "response = requests.get(\"https://meowfacts.herokuapp.com/\")"
   ]
  },
  {
   "cell_type": "code",
   "execution_count": 5,
   "id": "0afc72bf-f031-47bd-84dd-3bda2739fcb4",
   "metadata": {},
   "outputs": [
    {
     "data": {
      "text/plain": [
       "{'data': ['Cats can drink sea water in order to survive.']}"
      ]
     },
     "execution_count": 5,
     "metadata": {},
     "output_type": "execute_result"
    }
   ],
   "source": [
    "response.json()"
   ]
  },
  {
   "cell_type": "code",
   "execution_count": null,
   "id": "7ef88643-c3c7-4394-85da-71f0bdec1aac",
   "metadata": {},
   "outputs": [],
   "source": [
    "import requests\n",
    "\n",
    "# URL to send the GET request to\n",
    "url = \"https://meowfacts.herokuapp.com/\"\n",
    "\n",
    "# Send the GET request\n",
    "response = requests.get(url)\n",
    "\n",
    "# Check if the request was successful (status code 200)\n",
    "if response.status_code == 200:\n",
    "    # Print the content of the response\n",
    "    print(response.json())  # Assuming it returns JSON data\n",
    "else:\n",
    "    print(f\"Failed to retrieve data. Status code: {response.status_code}\")\n"
   ]
  }
 ],
 "metadata": {
  "kernelspec": {
   "display_name": "Python 3 (ipykernel)",
   "language": "python",
   "name": "python3"
  },
  "language_info": {
   "codemirror_mode": {
    "name": "ipython",
    "version": 3
   },
   "file_extension": ".py",
   "mimetype": "text/x-python",
   "name": "python",
   "nbconvert_exporter": "python",
   "pygments_lexer": "ipython3",
   "version": "3.12.9"
  }
 },
 "nbformat": 4,
 "nbformat_minor": 5
}
